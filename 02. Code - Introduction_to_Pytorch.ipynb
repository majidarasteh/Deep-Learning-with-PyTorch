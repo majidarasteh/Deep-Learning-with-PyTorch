{
 "cells": [
  {
   "cell_type": "code",
   "execution_count": 1,
   "id": "cbe3b3e9-8c14-4eb3-953c-c2b2e6f7628a",
   "metadata": {},
   "outputs": [
    {
     "name": "stdout",
     "output_type": "stream",
     "text": [
      "Float32 size: 4 bytes\n",
      "Float64 size: 8 bytes\n",
      "Int64 size: 8 bytes\n"
     ]
    }
   ],
   "source": [
    "import torch\n",
    "\n",
    "# Floating point types\n",
    "float16 = torch.tensor([1, 2, 3], dtype=torch.float16)    # Half precision\n",
    "float32 = torch.tensor([1, 2, 3], dtype=torch.float32)    # Single precision (DEFAULT)\n",
    "float64 = torch.tensor([1, 2, 3], dtype=torch.float64)    # Double precision\n",
    "bfloat16 = torch.tensor([1, 2, 3], dtype=torch.bfloat16)  # Brain float\n",
    "\n",
    "# Integer types\n",
    "int8 = torch.tensor([1, 2, 3], dtype=torch.int8)          # 8-bit integer\n",
    "int16 = torch.tensor([1, 2, 3], dtype=torch.int16)        # 16-bit integer\n",
    "int32 = torch.tensor([1, 2, 3], dtype=torch.int32)        # 32-bit integer\n",
    "int64 = torch.tensor([1, 2, 3], dtype=torch.int64)        # 64-bit integer (DEFAULT)\n",
    "\n",
    "# Other types\n",
    "bool_type = torch.tensor([True, False], dtype=torch.bool) # Boolean\n",
    "uint8 = torch.tensor([1, 2, 3], dtype=torch.uint8)        # Unsigned 8-bit integer\n",
    "\n",
    "print(\"Float32 size:\", float32.element_size(), \"bytes\")\n",
    "print(\"Float64 size:\", float64.element_size(), \"bytes\")\n",
    "print(\"Int64 size:\", int64.element_size(), \"bytes\")"
   ]
  },
  {
   "cell_type": "code",
   "execution_count": 2,
   "id": "4630809b-7973-44e4-9855-856890462f93",
   "metadata": {},
   "outputs": [
    {
     "name": "stdout",
     "output_type": "stream",
     "text": [
      "0D tensor: \n",
      " tensor(1)\n",
      "\n",
      "1D tensor: \n",
      " tensor([1, 2, 3])\n",
      "\n",
      "2D tensor: \n",
      " tensor([[1, 2],\n",
      "        [3, 4]])\n",
      "\n",
      "3D tensor: \n",
      " tensor([[[1, 2],\n",
      "         [3, 4]],\n",
      "\n",
      "        [[5, 6],\n",
      "         [7, 8]]])\n"
     ]
    }
   ],
   "source": [
    "import torch\n",
    "\n",
    "tensor0d = torch.tensor(1)                   # 0D tensor (scalar)\n",
    "tensor1d = torch.tensor([1, 2, 3])           # 1D tensor (vector)\n",
    "tensor2d = torch.tensor([[1, 2],\n",
    "                         [3, 4]])            # 2D tensor (matrix)\n",
    "tensor3d = torch.tensor([[[1, 2], [3, 4]],\n",
    "                         [[5, 6], [7, 8]]])  # 3D tensor\n",
    "\n",
    "print(\"0D tensor: \\n\", tensor0d)\n",
    "print(\"\\n1D tensor: \\n\", tensor1d)\n",
    "print(\"\\n2D tensor: \\n\", tensor2d)\n",
    "print(\"\\n3D tensor: \\n\", tensor3d)\n"
   ]
  },
  {
   "cell_type": "code",
   "execution_count": 3,
   "id": "1196da1f-95b8-4462-833e-6252c51a509d",
   "metadata": {},
   "outputs": [
    {
     "name": "stdout",
     "output_type": "stream",
     "text": [
      "Float32 tensor: tensor([1., 2., 3., 4.]) torch.float32\n",
      "Float64 tensor: tensor([1.5000, 2.7000, 3.9000], dtype=torch.float64) torch.float64\n"
     ]
    }
   ],
   "source": [
    "import torch\n",
    "\n",
    "# Method 1: Using dtype parameter\n",
    "float_tensor1 = torch.tensor([1, 2, 3, 4], dtype=torch.float32)\n",
    "float_tensor2 = torch.tensor([1.5, 2.7, 3.9], dtype=torch.float64)\n",
    "\n",
    "print(\"Float32 tensor:\", float_tensor1, float_tensor1.dtype)\n",
    "print(\"Float64 tensor:\", float_tensor2, float_tensor2.dtype)"
   ]
  },
  {
   "cell_type": "code",
   "execution_count": 4,
   "id": "c87206a7-2645-4434-962c-63f0187fa5ad",
   "metadata": {},
   "outputs": [
    {
     "name": "stdout",
     "output_type": "stream",
     "text": [
      "Auto float: torch.float32\n",
      "Mixed types: torch.float32\n"
     ]
    }
   ],
   "source": [
    "# PyTorch automatically infers float32 from Python floats\n",
    "auto_float = torch.tensor([1.0, 2.0, 3.0])  # Automatically float32\n",
    "mixed = torch.tensor([1, 2.5, 3])           # Mixed -> promotes to float32\n",
    "\n",
    "print(\"Auto float:\", auto_float.dtype)      # torch.float32\n",
    "print(\"Mixed types:\", mixed.dtype)          # torch.float32"
   ]
  },
  {
   "cell_type": "code",
   "execution_count": 5,
   "id": "1fab534e-69b9-4e4e-a850-6e47debf1430",
   "metadata": {},
   "outputs": [
    {
     "name": "stdout",
     "output_type": "stream",
     "text": [
      "=== 1D Tensor ===\n",
      "Tensor: tensor([1, 2, 3, 4, 5])\n",
      "Shape: torch.Size([5])\n",
      "Rank: 1\n",
      "Size: torch.Size([5])\n",
      "Number of elements: 5\n",
      "Data type:  torch.int64\n",
      "Device:  cpu\n",
      "\n",
      "=== 2D Tensor ===\n",
      "Tensor: tensor([[1, 2, 3],\n",
      "        [4, 5, 6]])\n",
      "Shape: torch.Size([2, 3])\n",
      "Rank: 2\n",
      "Size: torch.Size([2, 3])\n",
      "Number of elements: 6\n",
      "Data type:  torch.int64\n",
      "Device:  cpu\n",
      "\n",
      "=== 3D Tensor ===\n",
      "Tensor: tensor([[[1, 2],\n",
      "         [3, 4]],\n",
      "\n",
      "        [[5, 6],\n",
      "         [7, 8]]])\n",
      "Shape: torch.Size([2, 2, 2])\n",
      "Rank: 3\n",
      "Size: torch.Size([2, 2, 2])\n",
      "Number of elements: 8\n",
      "Data type:  torch.int64\n",
      "Device:  cpu\n"
     ]
    }
   ],
   "source": [
    "import torch\n",
    "\n",
    "# Example 1: 1D Tensor (Vector)\n",
    "vector = torch.tensor([1, 2, 3, 4, 5])\n",
    "print(\"=== 1D Tensor ===\")\n",
    "print(\"Tensor:\", vector)\n",
    "print(\"Shape:\", vector.shape)                 # torch.Size([5])\n",
    "print(\"Rank:\", vector.dim())                  # 1\n",
    "print(\"Size:\", vector.size())                 # torch.Size([5])\n",
    "print(\"Number of elements:\", vector.numel())  # 5\n",
    "print(\"Data type: \", vector.dtype)            # torch.int64\n",
    "print(\"Device: \", vector.device)              # cpu\n",
    "\n",
    "\n",
    "# Example 2: 2D Tensor (Matrix)\n",
    "matrix = torch.tensor([[1, 2, 3], [4, 5, 6]])\n",
    "print(\"\\n=== 2D Tensor ===\")\n",
    "print(\"Tensor:\", matrix)\n",
    "print(\"Shape:\", matrix.shape)                # torch.Size([2, 3])\n",
    "print(\"Rank:\", matrix.dim())                 # 2\n",
    "print(\"Size:\", matrix.size())                # torch.Size([2, 3])\n",
    "print(\"Number of elements:\", matrix.numel()) # 6\n",
    "print(\"Data type: \", matrix.dtype)           # torch.int64\n",
    "print(\"Device: \", matrix.device)              # cpu\n",
    "\n",
    "# Example 3: 3D Tensor\n",
    "tensor_3d = torch.tensor([[[1, 2], [3, 4]], [[5, 6], [7, 8]]])\n",
    "print(\"\\n=== 3D Tensor ===\")\n",
    "print(\"Tensor:\", tensor_3d)\n",
    "print(\"Shape:\", tensor_3d.shape)                # torch.Size([2, 2, 2])\n",
    "print(\"Rank:\", tensor_3d.dim())                 # 3\n",
    "print(\"Size:\", tensor_3d.size())                # torch.Size([2, 2, 2])\n",
    "print(\"Number of elements:\", tensor_3d.numel()) # 8\n",
    "print(\"Data type: \", tensor_3d.dtype)              # torch.int64\n",
    "print(\"Device: \", tensor_3d.device)              # cpu"
   ]
  },
  {
   "cell_type": "code",
   "execution_count": 6,
   "id": "ad03575c-89ed-4549-b112-8717873d9b72",
   "metadata": {},
   "outputs": [
    {
     "name": "stdout",
     "output_type": "stream",
     "text": [
      "Original vector: tensor([10, 20, 30, 40, 50])\n",
      "vector[2]: tensor(30)\n",
      "vector[-1]: tensor(50)\n",
      "vector[1:4]: tensor([20, 30, 40])\n",
      "vector[:3]: tensor([10, 20, 30])\n",
      "vector[2:]: tensor([30, 40, 50])\n"
     ]
    }
   ],
   "source": [
    "import torch\n",
    "\n",
    "# 1D tensor\n",
    "vector = torch.tensor([10, 20, 30, 40, 50])\n",
    "print(\"Original vector:\", vector)\n",
    "\n",
    "# Access single element\n",
    "print(\"vector[2]:\", vector[2])        # tensor(30)\n",
    "print(\"vector[-1]:\", vector[-1])      # tensor(50) - last element\n",
    "\n",
    "# Access range of elements (slicing)\n",
    "print(\"vector[1:4]:\", vector[1:4])    # tensor([20, 30, 40])\n",
    "print(\"vector[:3]:\", vector[:3])      # tensor([10, 20, 30]) - first 3\n",
    "print(\"vector[2:]:\", vector[2:])      # tensor([30, 40, 50]) - from index 2"
   ]
  },
  {
   "cell_type": "code",
   "execution_count": 7,
   "id": "f85fc9e7-71e8-4b42-9486-360199ce24a4",
   "metadata": {},
   "outputs": [
    {
     "name": "stdout",
     "output_type": "stream",
     "text": [
      "Original matrix:\n",
      "tensor([[1, 2, 3],\n",
      "        [4, 5, 6],\n",
      "        [7, 8, 9]])\n",
      "matrix[0, 1]: tensor(2)\n",
      "matrix[2, 0]: tensor(7)\n",
      "matrix[1]: tensor([4, 5, 6])\n",
      "matrix[1, :]: tensor([4, 5, 6])\n",
      "matrix[:, 2]: tensor([3, 6, 9])\n"
     ]
    }
   ],
   "source": [
    "# 2D tensor (matrix)\n",
    "matrix = torch.tensor([[1, 2, 3],\n",
    "                       [4, 5, 6],\n",
    "                       [7, 8, 9]])\n",
    "print(\"Original matrix:\")\n",
    "print(matrix)\n",
    "\n",
    "# Access single element\n",
    "print(\"matrix[0, 1]:\", matrix[0, 1])      # tensor(2) - row 0, column 1\n",
    "print(\"matrix[2, 0]:\", matrix[2, 0])      # tensor(7) - row 2, column 0\n",
    "\n",
    "# Access entire row\n",
    "print(\"matrix[1]:\", matrix[1])            # tensor([4, 5, 6]) - row 1\n",
    "print(\"matrix[1, :]:\", matrix[1, :])      # Same as above\n",
    "\n",
    "# Access entire column\n",
    "print(\"matrix[:, 2]:\", matrix[:, 2])      # tensor([3, 6, 9]) - column 2"
   ]
  },
  {
   "cell_type": "code",
   "execution_count": 8,
   "id": "39777df7-3f11-43f3-990b-6942cc00e606",
   "metadata": {},
   "outputs": [
    {
     "name": "stdout",
     "output_type": "stream",
     "text": [
      "3D tensor shape: torch.Size([3, 2, 2])\n",
      "First batch: tensor([[1, 2],\n",
      "        [3, 4]])\n",
      "Second batch, first row: tensor([5, 6])\n",
      "All batches, first row: tensor([[ 1,  2],\n",
      "        [ 5,  6],\n",
      "        [ 9, 10]])\n",
      "Specific element: tensor(11)\n"
     ]
    }
   ],
   "source": [
    "# 3D tensor (batch, rows, columns)\n",
    "tensor_3d = torch.tensor([[[1, 2], [3, 4]],\n",
    "                          [[5, 6], [7, 8]],\n",
    "                          [[9, 10], [11, 12]]])\n",
    "print(\"3D tensor shape:\", tensor_3d.shape)          # torch.Size([3, 2, 2])\n",
    "\n",
    "# Access different dimensions\n",
    "print(\"First batch:\", tensor_3d[0])                 # tensor([[1, 2], [3, 4]])\n",
    "print(\"Second batch, first row:\", tensor_3d[1, 0])  # tensor([5, 6])\n",
    "print(\"All batches, first row:\", tensor_3d[:, 0])   # tensor([[1, 2], [5, 6], [9, 10]])\n",
    "print(\"Specific element:\", tensor_3d[2, 1, 0])      # tensor(11)"
   ]
  },
  {
   "cell_type": "code",
   "execution_count": 9,
   "id": "9a501852-8e8c-443c-935e-f8dd655555ab",
   "metadata": {},
   "outputs": [
    {
     "name": "stdout",
     "output_type": "stream",
     "text": [
      "Mask: tensor([False,  True,  True, False,  True, False])\n",
      "Values > 7: tensor([12,  8, 15])\n",
      "Values between 5 and 10: tensor([8])\n",
      "Even numbers: tensor([12,  8])\n"
     ]
    }
   ],
   "source": [
    "# Create a tensor\n",
    "data = torch.tensor([5, 12, 8, 3, 15, 1])\n",
    "\n",
    "# Boolean masking\n",
    "mask = data > 7\n",
    "print(\"Mask:\", mask)                            # tensor([False, True, True, False, True, False])\n",
    "print(\"Values > 7:\", data[mask])                # tensor([12, 8, 15])\n",
    "\n",
    "# Multiple conditions\n",
    "mask2 = (data > 5) & (data < 10)\n",
    "print(\"Values between 5 and 10:\", data[mask2])  # tensor([8])\n",
    "\n",
    "# Direct condition\n",
    "print(\"Even numbers:\", data[data % 2 == 0])     # tensor([12, 8])"
   ]
  },
  {
   "cell_type": "code",
   "execution_count": 10,
   "id": "c853f27b-d3b3-4d33-a8dc-607eb19b0ed5",
   "metadata": {},
   "outputs": [
    {
     "name": "stdout",
     "output_type": "stream",
     "text": [
      "Rows [0, 2], all columns: tensor([[10, 20, 30],\n",
      "        [70, 80, 90]])\n",
      "Columns [1, 2] of all rows: tensor([[20, 30],\n",
      "        [50, 60],\n",
      "        [80, 90]])\n",
      "Specific elements: tensor([20, 40, 90])\n"
     ]
    }
   ],
   "source": [
    "tensor = torch.tensor([[10, 20, 30],\n",
    "                       [40, 50, 60],\n",
    "                       [70, 80, 90]])\n",
    "\n",
    "# Select specific indices\n",
    "print(\"Rows [0, 2], all columns:\", tensor[[0, 2]])      # Rows 0 and 2, all columns\n",
    "print(\"Columns [1, 2] of all rows:\", tensor[:, [1, 2]]) # All rows, columns 1 and 2\n",
    "\n",
    "# Advanced indexing - select specific elements\n",
    "rows = torch.tensor([0, 1, 2])\n",
    "cols = torch.tensor([1, 0, 2])\n",
    "\n",
    "# From row o, select column 1 and From row 1, select column 0 and From row 2, select column 2\n",
    "print(\"Specific elements:\", tensor[rows, cols])         # [20, 40, 90]"
   ]
  },
  {
   "cell_type": "code",
   "execution_count": 11,
   "id": "4d8b3423-0191-480d-902e-8114e60e4077",
   "metadata": {},
   "outputs": [
    {
     "name": "stdout",
     "output_type": "stream",
     "text": [
      "Original tensor:\n",
      "tensor([[1, 2, 3],\n",
      "        [4, 5, 6],\n",
      "        [7, 8, 9]])\n",
      "\n",
      "After modifying [0,1]:\n",
      "tensor([[ 1, 99,  3],\n",
      "        [ 4,  5,  6],\n",
      "        [ 7,  8,  9]])\n"
     ]
    }
   ],
   "source": [
    "import torch\n",
    "\n",
    "# Create a tensor\n",
    "tensor = torch.tensor([[1, 2, 3],\n",
    "                       [4, 5, 6],\n",
    "                       [7, 8, 9]])\n",
    "print(\"Original tensor:\")\n",
    "print(tensor)\n",
    "\n",
    "# Modify single element\n",
    "tensor[0, 1] = 99\n",
    "print(\"\\nAfter modifying [0,1]:\")\n",
    "print(tensor)\n",
    "# Output:\n",
    "# [[1, 99, 3],\n",
    "#  [4,  5, 6],\n",
    "#  [7,  8, 9]]"
   ]
  },
  {
   "cell_type": "code",
   "execution_count": 12,
   "id": "a939a1f6-246f-4190-be15-8ea95f1513cb",
   "metadata": {},
   "outputs": [
    {
     "name": "stdout",
     "output_type": "stream",
     "text": [
      "\n",
      "After modifying row 1:\n",
      "tensor([[ 1, 99,  3],\n",
      "        [10, 20, 30],\n",
      "        [ 7,  8,  9]])\n",
      "\n",
      "After modifying column 2:\n",
      "tensor([[  1,  99, 100],\n",
      "        [ 10,  20, 200],\n",
      "        [  7,   8, 300]])\n",
      "\n",
      "After modifying column 1:\n",
      "tensor([[  1,  -1, 100],\n",
      "        [ 10,  -1, 200],\n",
      "        [  7,  -1, 300]])\n"
     ]
    }
   ],
   "source": [
    "# Modify entire row\n",
    "tensor[1] = torch.tensor([10, 20, 30])\n",
    "print(\"\\nAfter modifying row 1:\")\n",
    "print(tensor)\n",
    "\n",
    "# Modify entire column\n",
    "tensor[:, 2] = torch.tensor([100, 200, 300])\n",
    "print(\"\\nAfter modifying column 2:\")\n",
    "print(tensor)\n",
    "\n",
    "# Modify entire column with a unique number\n",
    "tensor[:, 1] = torch.tensor(-1)\n",
    "print(\"\\nAfter modifying column 1:\")\n",
    "print(tensor)"
   ]
  },
  {
   "cell_type": "code",
   "execution_count": 13,
   "id": "c348f2ad-46f2-469e-a09e-4f45c13e2c6e",
   "metadata": {},
   "outputs": [
    {
     "name": "stdout",
     "output_type": "stream",
     "text": [
      "After slice modification:\n",
      "tensor([[ 1, 20, 30,  4],\n",
      "        [ 5, 60, 70,  8],\n",
      "        [ 9, 10, 11, 12]])\n"
     ]
    }
   ],
   "source": [
    "# Create new tensor\n",
    "tensor = torch.tensor([[1, 2, 3, 4],\n",
    "                       [5, 6, 7, 8],\n",
    "                       [9, 10, 11, 12]])\n",
    "\n",
    "# Modify a slice\n",
    "tensor[0:2, 1:3] = torch.tensor([[20, 30], [60, 70]])\n",
    "print(\"After slice modification:\")\n",
    "print(tensor)"
   ]
  },
  {
   "cell_type": "code",
   "execution_count": 14,
   "id": "1f236d94-5ad1-4374-ae76-a5aabc007009",
   "metadata": {},
   "outputs": [
    {
     "name": "stdout",
     "output_type": "stream",
     "text": [
      "\n",
      "============ Modify elements based on condition ==========\n",
      "\n",
      "After setting values > 5 to 0:\n",
      "tensor([[   1,    2,    3],\n",
      "        [   4,    5, -100],\n",
      "        [-100, -100, -100]])\n",
      "\n",
      "================= Multiple conditions ==============\n",
      "\n",
      "After multiple conditions:\n",
      "tensor([[   1,    0,    0],\n",
      "        [   4,    5, -100],\n",
      "        [-100, -100, -100]])\n"
     ]
    }
   ],
   "source": [
    "tensor = torch.tensor([[1, 2, 3],\n",
    "                       [4, 5, 6],\n",
    "                       [7, 8, 9]])\n",
    "\n",
    "# Modify elements based on condition\n",
    "print(\"\\n============ Modify elements based on condition ==========\\n\")\n",
    "mask = tensor > 5\n",
    "tensor[mask] = -100\n",
    "print(\"After setting values > 5 to 0:\")\n",
    "print(tensor)\n",
    "\n",
    "print(\"\\n================= Multiple conditions ==============\\n\")\n",
    "# Multiple conditions\n",
    "tensor[(tensor > 1) & (tensor < 4)] = 0\n",
    "print(\"After multiple conditions:\")\n",
    "print(tensor)"
   ]
  },
  {
   "cell_type": "code",
   "execution_count": 15,
   "id": "092a6158-a749-4292-ac8a-d98fbbe89983",
   "metadata": {},
   "outputs": [
    {
     "name": "stdout",
     "output_type": "stream",
     "text": [
      "After add_(5):\n",
      "tensor([[6., 7.],\n",
      "        [8., 9.]])\n",
      "\n",
      " After mul_(2):\n",
      "tensor([[12., 14.],\n",
      "        [16., 18.]])\n",
      "\n",
      " After sub_(1): \n",
      " tensor([[11., 13.],\n",
      "        [15., 17.]])\n",
      "\n",
      " After div_(2): \n",
      " tensor([[5.5000, 6.5000],\n",
      "        [7.5000, 8.5000]])\n",
      "\n",
      " After pow_(2): \n",
      " tensor([[30.2500, 42.2500],\n",
      "        [56.2500, 72.2500]])\n"
     ]
    }
   ],
   "source": [
    "tensor = torch.tensor([[1.0, 2.0], \n",
    "                       [3.0, 4.0]])\n",
    "\n",
    "# In-place arithmetic operations\n",
    "tensor.add_(5)           # Add 5 to all elements (in-place)\n",
    "print(\"After add_(5):\")\n",
    "print(tensor)\n",
    "\n",
    "tensor.mul_(2)           # Multiply all elements by 2 (in-place)\n",
    "print(\"\\n After mul_(2):\")\n",
    "print(tensor)\n",
    "\n",
    "# Other in-place operations\n",
    "tensor.sub_(1)                      # Subtract 1\n",
    "print(\"\\n After sub_(1): \\n\", tensor)\n",
    "tensor.div_(2)                      # Divide by 2\n",
    "print(\"\\n After div_(2): \\n\", tensor)\n",
    "tensor.pow_(2)                      # Square all elements\n",
    "print(\"\\n After pow_(2): \\n\", tensor)"
   ]
  },
  {
   "cell_type": "code",
   "execution_count": 16,
   "id": "108ebed5-9e5e-45a3-95a0-0d64c170104f",
   "metadata": {},
   "outputs": [
    {
     "name": "stdout",
     "output_type": "stream",
     "text": [
      "Using torch.where():\n",
      "tensor([[  1,   2,   3],\n",
      "        [  4,   5, -10],\n",
      "        [-10, -10, -10]])\n"
     ]
    }
   ],
   "source": [
    "tensor = torch.tensor([[1, 2, 3],\n",
    "                       [4, 5, 6],\n",
    "                       [7, 8, 9]])\n",
    "\n",
    "# Replace values based on condition\n",
    "modified = torch.where(tensor > 5, \n",
    "                      torch.tensor(-10),  # Values where condition is True\n",
    "                      tensor)            # Values where condition is False\n",
    "print(\"Using torch.where():\")\n",
    "print(modified)"
   ]
  },
  {
   "cell_type": "code",
   "execution_count": 17,
   "id": "6e358881-4846-444a-863e-ed3062c87d54",
   "metadata": {},
   "outputs": [
    {
     "name": "stdout",
     "output_type": "stream",
     "text": [
      "\n",
      " Square root:\n",
      " tensor([[1., 2.],\n",
      "        [3., 4.]])\n",
      "\n",
      " Log:\n",
      " tensor([[0.0000, 1.3863],\n",
      "        [2.1972, 2.7726]])\n",
      "\n",
      " Exponential:\n",
      " tensor([[2.7183e+00, 5.4598e+01],\n",
      "        [8.1031e+03, 8.8861e+06]])\n"
     ]
    }
   ],
   "source": [
    "tensor = torch.tensor([[1.0, 4.0],\n",
    "                       [9.0, 16.0]])\n",
    "\n",
    "# Apply mathematical functions (create new tensors)\n",
    "sqrt_tensor = torch.sqrt(tensor)          # Square root\n",
    "log_tensor = torch.log(tensor)            # Natural log\n",
    "exp_tensor = torch.exp(tensor)            # Exponential\n",
    "\n",
    "print(\"\\n Square root:\\n\", sqrt_tensor)\n",
    "print(\"\\n Log:\\n\", log_tensor)\n",
    "print(\"\\n Exponential:\\n\", exp_tensor)"
   ]
  },
  {
   "cell_type": "code",
   "execution_count": 18,
   "id": "7096227d-6fa5-4aa4-b029-adfc077b779a",
   "metadata": {},
   "outputs": [
    {
     "name": "stdout",
     "output_type": "stream",
     "text": [
      "After fill_(0):\n",
      "tensor([[-5, -5, -5],\n",
      "        [-5, -5, -5],\n",
      "        [-5, -5, -5],\n",
      "        [-5, -5, -5]])\n",
      "\n",
      " After fill_diagonal_(1):\n",
      "tensor([[ 1, -5, -5],\n",
      "        [-5,  1, -5],\n",
      "        [-5, -5,  1],\n",
      "        [-5, -5, -5]])\n",
      "\n",
      " After zero_():\n",
      "tensor([[0, 0, 0],\n",
      "        [0, 0, 0],\n",
      "        [0, 0, 0],\n",
      "        [0, 0, 0]])\n"
     ]
    }
   ],
   "source": [
    "tensor = torch.tensor([[1, 2, 3],\n",
    "                       [4, 5, 6],\n",
    "                       [7, 8, 9],\n",
    "                       [10, 11, 12]])\n",
    "\n",
    "# Fill with specific value\n",
    "tensor.fill_(-5)\n",
    "print(\"After fill_(0):\")\n",
    "print(tensor)\n",
    "\n",
    "# Fill diagonal\n",
    "tensor.fill_diagonal_(1)\n",
    "print(\"\\n After fill_diagonal_(1):\")\n",
    "print(tensor)\n",
    "\n",
    "# Zero out specific elements\n",
    "tensor.zero_()  # Fill entire tensor with zeros\n",
    "print(\"\\n After zero_():\")\n",
    "print(tensor)"
   ]
  },
  {
   "cell_type": "code",
   "execution_count": 19,
   "id": "5d4f0f8d-af1b-40cf-b516-ff3c0e6c582d",
   "metadata": {},
   "outputs": [
    {
     "name": "stdout",
     "output_type": "stream",
     "text": [
      "zeros(3,4)\n",
      " tensor([[0., 0., 0., 0.],\n",
      "        [0., 0., 0., 0.],\n",
      "        [0., 0., 0., 0.]])\n",
      "\n",
      "ones(3,4)\n",
      " tensor([[1., 1., 1., 1.],\n",
      "        [1., 1., 1., 1.],\n",
      "        [1., 1., 1., 1.]])\n"
     ]
    }
   ],
   "source": [
    "tensor = torch.zeros(3,4)\n",
    "print(\"zeros(3,4)\\n\", tensor)\n",
    "\n",
    "tensor = torch.ones(3,4)\n",
    "print(\"\\nones(3,4)\\n\", tensor)"
   ]
  },
  {
   "cell_type": "code",
   "execution_count": 20,
   "id": "f9f23453-4e98-4e36-94a9-b57ccc2eeb40",
   "metadata": {},
   "outputs": [
    {
     "name": "stdout",
     "output_type": "stream",
     "text": [
      "Same memory? False\n"
     ]
    }
   ],
   "source": [
    "# In-place vs out-of-place operations\n",
    "tensor = torch.tensor([1, 2, 3])\n",
    "\n",
    "# Out-of-place: creates new tensor (more memory)\n",
    "new_tensor = tensor + 1\n",
    "\n",
    "# In-place: modifies existing tensor (less memory)\n",
    "tensor.add_(1)\n",
    "\n",
    "print(\"Same memory?\", tensor.data_ptr() == new_tensor.data_ptr())  # False"
   ]
  },
  {
   "cell_type": "code",
   "execution_count": 21,
   "id": "536a7f45-c458-45c7-90d1-a7ac11a0e6a9",
   "metadata": {},
   "outputs": [
    {
     "name": "stdout",
     "output_type": "stream",
     "text": [
      "Original NumPy: [1 2 3 4 5]\n",
      "PyTorch tensor: tensor([1, 2, 3, 4, 5])\n",
      "\n",
      "After modifying NumPy:\n",
      "NumPy array: [99  2  3  4  5]\n",
      "PyTorch tensor: tensor([99,  2,  3,  4,  5])\n",
      "\n",
      "After modifying PyTorch:\n",
      "NumPy array: [99 88  3  4  5]\n",
      "PyTorch tensor: tensor([99, 88,  3,  4,  5])\n"
     ]
    }
   ],
   "source": [
    "import numpy as np\n",
    "\n",
    "# NumPy to PyTorch with shared memory\n",
    "numpy_arr = np.array([1, 2, 3, 4, 5])\n",
    "torch_tensor = torch.from_numpy(numpy_arr)  # Shares memory\n",
    "\n",
    "print(\"Original NumPy:\", numpy_arr)\n",
    "print(\"PyTorch tensor:\", torch_tensor)\n",
    "\n",
    "# Modify NumPy array\n",
    "numpy_arr[0] = 99\n",
    "print(\"\\nAfter modifying NumPy:\")\n",
    "print(\"NumPy array:\", numpy_arr)\n",
    "print(\"PyTorch tensor:\", torch_tensor)  # Also changed!\n",
    "\n",
    "# Modify PyTorch tensor\n",
    "torch_tensor[1] = 88\n",
    "print(\"\\nAfter modifying PyTorch:\")\n",
    "print(\"NumPy array:\", numpy_arr)        # Also changed!\n",
    "print(\"PyTorch tensor:\", torch_tensor)"
   ]
  },
  {
   "cell_type": "code",
   "execution_count": 22,
   "id": "d0beebfe-9bdc-4eed-80ed-7c75b0cdecb2",
   "metadata": {},
   "outputs": [
    {
     "name": "stdout",
     "output_type": "stream",
     "text": [
      "Original NumPy: [1 2 3 4 5]\n",
      "PyTorch tensor: tensor([1, 2, 3, 4, 5])\n",
      "\n",
      "After modifying NumPy:\n",
      "NumPy array: [99  2  3  4  5]\n",
      "PyTorch tensor: tensor([1, 2, 3, 4, 5])\n",
      "\n",
      "After modifying PyTorch:\n",
      "NumPy array: [99  2  3  4  5]\n",
      "PyTorch tensor: tensor([ 1, 88,  3,  4,  5])\n"
     ]
    }
   ],
   "source": [
    "# NumPy to PyTorch with separate memory\n",
    "numpy_arr = np.array([1, 2, 3, 4, 5])\n",
    "torch_tensor = torch.tensor(numpy_arr)  # Creates copy\n",
    "\n",
    "print(\"Original NumPy:\", numpy_arr)\n",
    "print(\"PyTorch tensor:\", torch_tensor)\n",
    "\n",
    "# Modify NumPy array\n",
    "numpy_arr[0] = 99\n",
    "print(\"\\nAfter modifying NumPy:\")\n",
    "print(\"NumPy array:\", numpy_arr)\n",
    "print(\"PyTorch tensor:\", torch_tensor)  # Unchanged!\n",
    "\n",
    "# Modify PyTorch tensor\n",
    "torch_tensor[1] = 88\n",
    "print(\"\\nAfter modifying PyTorch:\")\n",
    "print(\"NumPy array:\", numpy_arr)        # Unchanged!\n",
    "print(\"PyTorch tensor:\", torch_tensor)"
   ]
  },
  {
   "cell_type": "code",
   "execution_count": 23,
   "id": "6b6bcf27-e936-42c5-a3e2-5a6c37f45819",
   "metadata": {},
   "outputs": [
    {
     "name": "stdout",
     "output_type": "stream",
     "text": [
      "PyTorch tensor:\n",
      "tensor([[1., 2., 3.],\n",
      "        [4., 5., 6.]])\n",
      "Type: <class 'torch.Tensor'>\n",
      "\n",
      "NumPy array:\n",
      "[[1. 2. 3.]\n",
      " [4. 5. 6.]]\n",
      "Type: <class 'numpy.ndarray'>\n",
      "Shape: (2, 3)\n",
      "Dtype: float32\n"
     ]
    }
   ],
   "source": [
    "# Create a PyTorch tensor\n",
    "torch_tensor = torch.tensor([[1.0, 2.0, 3.0],\n",
    "                             [4.0, 5.0, 6.0]])\n",
    "print(\"PyTorch tensor:\")\n",
    "print(torch_tensor)\n",
    "print(\"Type:\", type(torch_tensor))\n",
    "\n",
    "# Convert to NumPy array\n",
    "numpy_array = torch_tensor.numpy()\n",
    "print(\"\\nNumPy array:\")\n",
    "print(numpy_array)\n",
    "print(\"Type:\", type(numpy_array))\n",
    "print(\"Shape:\", numpy_array.shape)\n",
    "print(\"Dtype:\", numpy_array.dtype)"
   ]
  },
  {
   "cell_type": "code",
   "execution_count": 24,
   "id": "77f99469-f1f3-425d-8f8f-51527e0625f8",
   "metadata": {},
   "outputs": [
    {
     "name": "stdout",
     "output_type": "stream",
     "text": [
      "Original shape (3x4): torch.Size([3, 4])\n",
      "tensor([[ 1,  2,  3,  4],\n",
      "        [ 5,  6,  7,  8],\n",
      "        [ 9, 10, 11, 12]])\n",
      "\n",
      "Reshaped to (2x3x2): torch.Size([2, 3, 2])\n",
      "tensor([[[ 1,  2],\n",
      "         [ 3,  4],\n",
      "         [ 5,  6]],\n",
      "\n",
      "        [[ 7,  8],\n",
      "         [ 9, 10],\n",
      "         [11, 12]]])\n"
     ]
    }
   ],
   "source": [
    "import torch\n",
    "\n",
    "# Original tensor: 3x4\n",
    "original = torch.tensor([[1, 2, 3, 4],\n",
    "                         [5, 6, 7, 8],\n",
    "                         [9, 10, 11, 12]])\n",
    "print(\"Original shape (3x4):\", original.shape)\n",
    "print(original)\n",
    "\n",
    "# Reshape to 2x3x2\n",
    "reshaped = original.reshape(2, 3, 2)\n",
    "print(\"\\nReshaped to (2x3x2):\", reshaped.shape)\n",
    "print(reshaped)"
   ]
  },
  {
   "cell_type": "code",
   "execution_count": 25,
   "id": "1a2f53d6-a9b4-4ac2-9555-9ade6c26a228",
   "metadata": {},
   "outputs": [
    {
     "name": "stdout",
     "output_type": "stream",
     "text": [
      "Using view() - same result:\n",
      "torch.Size([2, 3, 2])\n",
      "tensor([[[ 1,  2],\n",
      "         [ 3,  4],\n",
      "         [ 5,  6]],\n",
      "\n",
      "        [[ 7,  8],\n",
      "         [ 9, 10],\n",
      "         [11, 12]]])\n"
     ]
    }
   ],
   "source": [
    "# Using view() - requires contiguous memory\n",
    "reshaped_view = original.view(2, 3, 2)\n",
    "print(\"Using view() - same result:\")\n",
    "print(reshaped_view.shape)\n",
    "print(reshaped_view)"
   ]
  },
  {
   "cell_type": "code",
   "execution_count": 26,
   "id": "977bc9f0-60ce-4e68-8e1c-997befce6246",
   "metadata": {},
   "outputs": [
    {
     "name": "stdout",
     "output_type": "stream",
     "text": [
      "Flattened: torch.Size([12])\n",
      "tensor([ 1,  2,  3,  4,  5,  6,  7,  8,  9, 10, 11, 12])\n",
      "Flattened 2D: torch.Size([3, 4])\n",
      "tensor([[ 1,  2,  3,  4],\n",
      "        [ 5,  6,  7,  8],\n",
      "        [ 9, 10, 11, 12]])\n"
     ]
    }
   ],
   "source": [
    "# Flatten to 1D\n",
    "flattened = original.reshape(-1)      # or original.view(-1)\n",
    "print(\"Flattened:\", flattened.shape)  # torch.Size([12])\n",
    "print(flattened)  # tensor([1, 2, 3, 4, 5, 6, 7, 8, 9, 10, 11, 12])\n",
    "\n",
    "# Flatten specific dimensions\n",
    "flattened_2d = original.reshape(3, -1)      # Keep first dim, flatten rest\n",
    "print(\"Flattened 2D:\", flattened_2d.shape)  # torch.Size([3, 4])\n",
    "print(flattened_2d)"
   ]
  },
  {
   "cell_type": "code",
   "execution_count": 27,
   "id": "94678d78-acb8-4652-9bc3-fb7efd157dbe",
   "metadata": {},
   "outputs": [
    {
     "name": "stdout",
     "output_type": "stream",
     "text": [
      "Original tensor's dim: torch.Size([3, 4])\n",
      "tensor([[ 1,  2,  3,  4],\n",
      "        [ 5,  6,  7,  8],\n",
      "        [ 9, 10, 11, 12]])\n",
      "\n",
      "With batch dim: torch.Size([1, 3, 4])\n",
      "Using unsqueeze: torch.Size([1, 3, 4])\n",
      "tensor([[[ 1,  2,  3,  4],\n",
      "         [ 5,  6,  7,  8],\n",
      "         [ 9, 10, 11, 12]]])\n",
      "\n",
      "After squeeze: torch.Size([3, 4])\n",
      "\n",
      "After squeeze:\n",
      " tensor([[ 1,  2,  3,  4],\n",
      "        [ 5,  6,  7,  8],\n",
      "        [ 9, 10, 11, 12]])\n"
     ]
    }
   ],
   "source": [
    "print(\"Original tensor's dim:\", original.shape)  # torch.Size([3, 4])\n",
    "print(original)\n",
    "# Add new dimensions\n",
    "with_batch = original.reshape(1, 3, 4)      # Add batch dimension\n",
    "print(\"\\nWith batch dim:\", with_batch.shape)  # torch.Size([1, 3, 4])\n",
    "\n",
    "# Using unsqueeze()\n",
    "with_batch2 = original.unsqueeze(0)           # Add dimension at position 0\n",
    "print(\"Using unsqueeze:\", with_batch2.shape)  # torch.Size([1, 3, 4])\n",
    "print(with_batch2)\n",
    "\n",
    "# Remove dimensions of size 1\n",
    "squeezed = with_batch2.squeeze(0)        # Remove dimension at position 0\n",
    "print(\"\\nAfter squeeze:\", squeezed.shape)  # torch.Size([3, 4])\n",
    "print(\"\\nAfter squeeze:\\n\", squeezed)  "
   ]
  },
  {
   "cell_type": "code",
   "execution_count": 28,
   "id": "96f634af-194a-4586-a40d-6194358ba7dc",
   "metadata": {},
   "outputs": [
    {
     "name": "stdout",
     "output_type": "stream",
     "text": [
      "2 x -1: torch.Size([2, 6])\n",
      "-1 x 6: torch.Size([2, 6])\n",
      "2 x 3 x -1: torch.Size([2, 3, 2])\n"
     ]
    }
   ],
   "source": [
    "# Let PyTorch calculate one dimension\n",
    "original = torch.tensor([[1, 2, 3, 4],\n",
    "                         [5, 6, 7, 8],\n",
    "                         [9, 10, 11, 12]])\n",
    "\n",
    "# Use -1 for automatic dimension calculation\n",
    "auto1 = original.reshape(2, -1)    # 2x6\n",
    "auto2 = original.reshape(-1, 6)    # 2x6\n",
    "auto3 = original.reshape(2, 3, -1) # 2x3x2\n",
    "\n",
    "print(\"2 x -1:\", auto1.shape)      # torch.Size([2, 6])\n",
    "print(\"-1 x 6:\", auto2.shape)      # torch.Size([2, 6])\n",
    "print(\"2 x 3 x -1:\", auto3.shape)  # torch.Size([2, 3, 2])"
   ]
  },
  {
   "cell_type": "code",
   "execution_count": 29,
   "id": "a5403b0e-8dd9-412b-9873-3f243554f200",
   "metadata": {},
   "outputs": [
    {
     "name": "stdout",
     "output_type": "stream",
     "text": [
      "Individual tensors:\n",
      "tensor1: tensor([1, 2, 3])\n",
      "tensor2: tensor([4, 5, 6])\n",
      "tensor3: tensor([7, 8, 9])\n",
      "\n",
      "Stacked (dim=0):\n",
      "tensor([[1, 2, 3],\n",
      "        [4, 5, 6],\n",
      "        [7, 8, 9]])\n",
      "\n",
      "Shape: torch.Size([3, 3])\n"
     ]
    }
   ],
   "source": [
    "import torch\n",
    "\n",
    "# Create individual tensors\n",
    "tensor1 = torch.tensor([1, 2, 3])\n",
    "tensor2 = torch.tensor([4, 5, 6])\n",
    "tensor3 = torch.tensor([7, 8, 9])\n",
    "\n",
    "print(\"Individual tensors:\")\n",
    "print(\"tensor1:\", tensor1)\n",
    "print(\"tensor2:\", tensor2)\n",
    "print(\"tensor3:\", tensor3)\n",
    "\n",
    "# Stack along a new dimension (default dim=0)\n",
    "stacked = torch.stack([tensor1, tensor2, tensor3])\n",
    "print(\"\\nStacked (dim=0):\")\n",
    "print(stacked)\n",
    "print(\"\\nShape:\", stacked.shape)  # torch.Size([3, 3])"
   ]
  },
  {
   "cell_type": "code",
   "execution_count": 30,
   "id": "8d7b0e29-99cc-44ed-8b68-c615a8cac2fb",
   "metadata": {},
   "outputs": [
    {
     "name": "stdout",
     "output_type": "stream",
     "text": [
      "Concatenated: tensor([1, 2, 3, 4, 5, 6])\n",
      "Concatenated shape: torch.Size([6])\n",
      "\n",
      "Stacked:\n",
      " tensor([[1, 2, 3],\n",
      "        [4, 5, 6]])\n",
      "\n",
      "Stacked shape: torch.Size([2, 3])\n"
     ]
    }
   ],
   "source": [
    "# Understanding the difference between stack and cat\n",
    "tensor1 = torch.tensor([1, 2, 3])\n",
    "tensor2 = torch.tensor([4, 5, 6])\n",
    "\n",
    "# Concatenate (joins along existing dimension)\n",
    "concatenated = torch.cat([tensor1, tensor2])\n",
    "print(\"Concatenated:\", concatenated)              # tensor([1, 2, 3, 4, 5, 6])\n",
    "print(\"Concatenated shape:\", concatenated.shape)  # torch.Size([6])\n",
    "\n",
    "# Stack (creates new dimension)\n",
    "stacked = torch.stack([tensor1, tensor2])\n",
    "print(\"\\nStacked:\\n\", stacked)\n",
    "print(\"\\nStacked shape:\", stacked.shape)    # torch.Size([2, 3])"
   ]
  },
  {
   "cell_type": "code",
   "execution_count": 31,
   "id": "8ef0930c-70b7-459c-90fa-486a5fbbe133",
   "metadata": {},
   "outputs": [
    {
     "name": "stdout",
     "output_type": "stream",
     "text": [
      "Original matrix: \n",
      " tensor([[1, 2, 3],\n",
      "        [4, 5, 6]])\n",
      "\n",
      "Shape: torch.Size([2, 3])\n",
      "\n",
      "Transposed (.T): \n",
      " tensor([[1, 4],\n",
      "        [2, 5],\n",
      "        [3, 6]])\n",
      "\n",
      "Shape: torch.Size([3, 2])\n",
      "\n",
      "Reshape matrix (3*2) is different from transpose and reshape is:\n",
      " tensor([[1, 2],\n",
      "        [3, 4],\n",
      "        [5, 6]]) and its shape is: \n",
      " torch.Size([3, 2])\n"
     ]
    }
   ],
   "source": [
    "import torch\n",
    "\n",
    "matrix = torch.tensor([[1, 2, 3],\n",
    "                       [4, 5, 6]])\n",
    "\n",
    "print(\"Original matrix: \\n\", matrix)\n",
    "print(\"\\nShape:\", matrix.shape)      # torch.Size([2, 3])\n",
    "\n",
    "# Transpose using .T\n",
    "transposed = matrix.T\n",
    "print(\"\\nTransposed (.T): \\n\", transposed)\n",
    "print(\"\\nShape:\", transposed.shape)  # torch.Size([3, 2])\n",
    "\n",
    "# Different from reshape\n",
    "reshaped_matrix = matrix.reshape(3,2)\n",
    "print(f\"\\nReshape matrix (3*2) is different from transpose and reshape is:\\n {reshaped_matrix} and its shape is: \\n {reshaped_matrix.shape}\")"
   ]
  },
  {
   "cell_type": "code",
   "execution_count": 32,
   "id": "67b0a519-dfe2-409e-bf7e-8bd92c4ade6b",
   "metadata": {},
   "outputs": [
    {
     "name": "stdout",
     "output_type": "stream",
     "text": [
      "Transpose using .t():\n",
      "tensor([[1, 3],\n",
      "        [2, 4]])\n"
     ]
    }
   ],
   "source": [
    "# Alternative for 2D tensors\n",
    "matrix = torch.tensor([[1, 2], [3, 4]])\n",
    "transposed_t = matrix.t()\n",
    "print(\"Transpose using .t():\")\n",
    "print(transposed_t)"
   ]
  },
  {
   "cell_type": "code",
   "execution_count": 33,
   "id": "77c363e4-ef9d-4468-b624-71eebe04758c",
   "metadata": {},
   "outputs": [
    {
     "name": "stdout",
     "output_type": "stream",
     "text": [
      "Original 3D:\n",
      "tensor([[[1, 2],\n",
      "         [3, 4]],\n",
      "\n",
      "        [[5, 6],\n",
      "         [7, 8]]])\n",
      "Shape: torch.Size([2, 2, 2])\n",
      "\n",
      "Transposed dim0 and dim1:\n",
      "tensor([[[1, 2],\n",
      "         [5, 6]],\n",
      "\n",
      "        [[3, 4],\n",
      "         [7, 8]]])\n",
      "Shape: torch.Size([2, 2, 2])\n",
      "\n",
      "Transposed dim1 and dim2:\n",
      "tensor([[[1, 3],\n",
      "         [2, 4]],\n",
      "\n",
      "        [[5, 7],\n",
      "         [6, 8]]])\n",
      "Shape: torch.Size([2, 2, 2])\n"
     ]
    }
   ],
   "source": [
    "# 3D tensor\n",
    "tensor_3d = torch.tensor([[[1, 2], [3, 4]],\n",
    "                          [[5, 6], [7, 8]]])\n",
    "print(\"Original 3D:\")\n",
    "print(tensor_3d)\n",
    "print(\"Shape:\", tensor_3d.shape)                    # torch.Size([2, 2, 2])\n",
    "\n",
    "# Transpose specific dimensions\n",
    "transposed_3d = torch.transpose(tensor_3d, 0, 1)    # Swap dim0 and dim1\n",
    "print(\"\\nTransposed dim0 and dim1:\")\n",
    "print(transposed_3d)\n",
    "print(\"Shape:\", transposed_3d.shape)                # torch.Size([2, 2, 2])\n",
    "\n",
    "# Transpose different dimensions\n",
    "transposed_3d_2 = torch.transpose(tensor_3d, 1, 2)  # Swap dim1 and dim2\n",
    "print(\"\\nTransposed dim1 and dim2:\")\n",
    "print(transposed_3d_2)\n",
    "print(\"Shape:\", transposed_3d_2.shape)              # torch.Size([2, 2, 2])"
   ]
  },
  {
   "cell_type": "code",
   "execution_count": 34,
   "id": "c7cab55d-2388-4ce6-a985-07352c3853c7",
   "metadata": {},
   "outputs": [
    {
     "name": "stdout",
     "output_type": "stream",
     "text": [
      "First tensor:  tensor([1, 2, 3])\n",
      "Second tensor:  tensor([4, 5, 6])\n",
      "\n",
      "Add:  tensor([5, 7, 9])\n",
      "Subtract:  tensor([-3, -3, -3])\n",
      "Multiply:  tensor([ 4, 10, 18])\n",
      "Divide:  tensor([0.2500, 0.4000, 0.5000])\n",
      "Power:  tensor([  1,  32, 729])\n",
      "Modulo:  tensor([1, 0, 1])\n"
     ]
    }
   ],
   "source": [
    "import torch\n",
    "\n",
    "a = torch.tensor([1, 2, 3])\n",
    "b = torch.tensor([4, 5, 6])\n",
    "\n",
    "# Element-wise operations\n",
    "add = a + b           # Addition: [5, 7, 9]\n",
    "subtract = a - b      # Subtraction: [-3, -3, -3]\n",
    "multiply = a * b      # Multiplication: [4, 10, 18]\n",
    "divide = a / b        # Division: [0.25, 0.4, 0.5]\n",
    "power = a ** b        # Power: [1, 32, 729]\n",
    "modulo = a % 2        # Modulo: [1, 0, 1]\n",
    "\n",
    "print(\"First tensor: \", a)\n",
    "print(\"Second tensor: \", b)\n",
    "\n",
    "print(\"\\nAdd: \", add)\n",
    "print(\"Subtract: \", subtract)\n",
    "print(\"Multiply: \", multiply)\n",
    "print(\"Divide: \", divide)\n",
    "print(\"Power: \", power)\n",
    "print(\"Modulo: \", modulo)\n",
    "\n",
    "\n",
    "# Equivalent function forms\n",
    "add_func = torch.add(a, b)\n",
    "sub_func = torch.sub(a, b)\n",
    "mul_func = torch.mul(a, b)\n",
    "div_func = torch.div(a, b)"
   ]
  },
  {
   "cell_type": "code",
   "execution_count": 35,
   "id": "10fb20ca-9a81-4bde-b0fb-994d2010d8a9",
   "metadata": {},
   "outputs": [
    {
     "data": {
      "text/plain": [
       "tensor([ 2.2500,  6.2500, 12.2500])"
      ]
     },
     "execution_count": 35,
     "metadata": {},
     "output_type": "execute_result"
    }
   ],
   "source": [
    "x = torch.tensor([1.0, 2.0, 3.0])\n",
    "\n",
    "# In-place operations (modify original tensor)\n",
    "x.add_(1)            # x = x + 1 → [2., 3., 4.]\n",
    "x.sub_(0.5)          # x = x - 0.5 → [1.5, 2.5, 3.5]\n",
    "x.mul_(2)            # x = x * 2 → [3., 5., 7.]\n",
    "x.div_(2)            # x = x / 2 → [1.5, 2.5, 3.5]\n",
    "x.pow_(2)            # x = x² → [2.25, 6.25, 12.25]"
   ]
  },
  {
   "cell_type": "code",
   "execution_count": 36,
   "id": "a7bc07df-b653-4141-b26a-acc6e9ecb471",
   "metadata": {},
   "outputs": [
    {
     "name": "stdout",
     "output_type": "stream",
     "text": [
      "Matrix A: \n",
      " tensor([[1, 2],\n",
      "        [3, 4],\n",
      "        [5, 6]])\n",
      "\n",
      "Matrix B: \n",
      " tensor([[ 7,  8,  9, 10],\n",
      "        [11, 12, 13, 14]])\n",
      "\n",
      " Matrix multiplication A and B: \n",
      " tensor([[ 29,  32,  35,  38],\n",
      "        [ 65,  72,  79,  86],\n",
      "        [101, 112, 123, 134]])\n"
     ]
    }
   ],
   "source": [
    "# Matrix multiplication - Using @\n",
    "A = torch.tensor([[1, 2], [3, 4], [5, 6]])             # 3*2\n",
    "B = torch.tensor([[7, 8, 9, 10], [11, 12, 13, 14]])   # 2*4\n",
    "\n",
    "# Matrix multiplication\n",
    "matmul = A @ B                                        # Result: 3*4\n",
    "\n",
    "print(\"Matrix A: \\n\", A)\n",
    "print(\"\\nMatrix B: \\n\", B)\n",
    "print(\"\\n Matrix multiplication A and B: \\n\", matmul)"
   ]
  },
  {
   "cell_type": "code",
   "execution_count": 37,
   "id": "4b9781d2-4988-4a99-8b3a-a32dbd1839c9",
   "metadata": {},
   "outputs": [
    {
     "name": "stdout",
     "output_type": "stream",
     "text": [
      "Matrix A: \n",
      " tensor([[1, 2],\n",
      "        [3, 4],\n",
      "        [5, 6]])\n",
      "\n",
      "Matrix B: \n",
      " tensor([[ 7,  8,  9, 10],\n",
      "        [11, 12, 13, 14]])\n",
      "\n",
      " Matrix multiplication A and B: \n",
      " tensor([[ 29,  32,  35,  38],\n",
      "        [ 65,  72,  79,  86],\n",
      "        [101, 112, 123, 134]])\n"
     ]
    }
   ],
   "source": [
    "# Matrix multiplication - Using torch.matmul(A, B)\n",
    "\n",
    "A = torch.tensor([[1, 2], [3, 4], [5, 6]])            # 3*2\n",
    "B = torch.tensor([[7, 8, 9, 10], [11, 12, 13, 14]])   # 2*4\n",
    "\n",
    "# Matrix multiplication\n",
    "matmul = torch.matmul(A, B)                           # Result: 3*4 \n",
    "\n",
    "print(\"Matrix A: \\n\", A)\n",
    "print(\"\\nMatrix B: \\n\", B)\n",
    "print(\"\\n Matrix multiplication A and B: \\n\", matmul)"
   ]
  },
  {
   "cell_type": "code",
   "execution_count": 38,
   "id": "03479c99-65f1-4a8d-97ab-5ef37d084b05",
   "metadata": {},
   "outputs": [
    {
     "name": "stdout",
     "output_type": "stream",
     "text": [
      "Vector A: \n",
      " tensor([1, 2, 3])\n",
      "\n",
      "Vector B: \n",
      " tensor([4, 5, 6])\n",
      "\n",
      "Dot product \n",
      " tensor(32)\n"
     ]
    }
   ],
   "source": [
    "# Matrix Dot product\n",
    "vector1 = torch.tensor([1, 2, 3])\n",
    "vector2 = torch.tensor([4, 5, 6])\n",
    "\n",
    "dot_product = torch.dot(vector1, vector2)  # 1*4 + 2*5 + 3*6 = 32\n",
    "\n",
    "print(\"Vector A: \\n\", vector1)\n",
    "print(\"\\nVector B: \\n\", vector2)\n",
    "print(\"\\nDot product \\n\", dot_product)"
   ]
  },
  {
   "cell_type": "code",
   "execution_count": 39,
   "id": "c6529287-91de-44c9-a1b4-320ede856e42",
   "metadata": {},
   "outputs": [
    {
     "name": "stdout",
     "output_type": "stream",
     "text": [
      "Shape batch A: \n",
      " torch.Size([3, 2, 4])\n",
      "\n",
      "Shape batch B: \n",
      " torch.Size([3, 4, 3])\n",
      "\n",
      "Shape batch matmul: \n",
      " torch.Size([3, 2, 3])\n"
     ]
    }
   ],
   "source": [
    "# Batch matrix multiplication\n",
    "batch_A = torch.randn(3, 2, 4)    # 3 batches of 2x4 matrices\n",
    "batch_B = torch.randn(3, 4, 3)    # 3 batches of 4x3 matrices\n",
    "batch_matmul = torch.bmm(batch_A, batch_B)  # 3x2x3 result\n",
    "\n",
    "print(\"Shape batch A: \\n\", batch_A.shape)\n",
    "print(\"\\nShape batch B: \\n\", batch_B.shape)\n",
    "print(\"\\nShape batch matmul: \\n\", batch_matmul.shape)"
   ]
  },
  {
   "cell_type": "code",
   "execution_count": 40,
   "id": "9c754d3e-a548-458c-943d-4909692ce8e3",
   "metadata": {},
   "outputs": [
    {
     "name": "stdout",
     "output_type": "stream",
     "text": [
      "sum_all:  tensor(21.)\n",
      "sum_dim0:  tensor([5., 7., 9.])\n",
      "sum_dim1:  tensor([ 6., 15.])\n",
      "mean_all:  tensor(3.5000)\n",
      "mean_dim0:  tensor([2.5000, 3.5000, 4.5000])\n",
      "max_val:  tensor(3.5000)  And max_idx tensor([2, 2])\n",
      "min_val:  tensor(1.)\n",
      "prod:  tensor(720.)\n",
      "Standard deviation:  tensor(1.8708)\n",
      "Variance:  tensor(3.5000)\n"
     ]
    }
   ],
   "source": [
    "tensor = torch.tensor([[1., 2., 3.], \n",
    "                       [4., 5., 6.]])\n",
    "\n",
    "# Sum operations\n",
    "sum_all = tensor.sum()            # 21\n",
    "sum_dim0 = tensor.sum(dim=0)      # [5, 7, 9] (sum along rows)\n",
    "sum_dim1 = tensor.sum(dim=1)      # [6, 15] (sum along columns)\n",
    "\n",
    "# Mean operations\n",
    "mean_all = tensor.mean()          # 3.5\n",
    "mean_dim0 = tensor.mean(dim=0)    # [2.5, 3.5, 4.5]\n",
    "\n",
    "# Min/Max operations\n",
    "max_val, max_idx = tensor.max(dim=1)  # (values: [3,6], indices: [2,2])\n",
    "min_val = tensor.min()            # 1\n",
    "\n",
    "# Other reductions\n",
    "prod = tensor.prod()              # Product: 720\n",
    "std = tensor.std()                # Standard deviation\n",
    "var = tensor.var()                # Variance\n",
    "\n",
    "print(\"sum_all: \", sum_all)\n",
    "print(\"sum_dim0: \", sum_dim0)\n",
    "print(\"sum_dim1: \", sum_dim1)\n",
    "print(\"mean_all: \", mean_all)\n",
    "print(\"mean_dim0: \", mean_dim0)\n",
    "print(\"max_val: \", mean_all, \" And max_idx\", max_idx)\n",
    "print(\"min_val: \", min_val)\n",
    "print(\"prod: \", prod)\n",
    "print(\"Standard deviation: \", std)\n",
    "print(\"Variance: \", var)"
   ]
  },
  {
   "cell_type": "code",
   "execution_count": 41,
   "id": "0cf2ecce-bf70-49f3-83ff-2c77288384c8",
   "metadata": {},
   "outputs": [
    {
     "name": "stdout",
     "output_type": "stream",
     "text": [
      "sin tensor([0.0000, 0.7071, 1.0000])\n",
      "cos tensor([ 1.0000e+00,  7.0711e-01, -4.3711e-08])\n",
      "tan tensor([0, 1, 2])\n",
      "atan tensor([0.0000, 0.7854, 1.1071])\n",
      "sinh tensor([0.0000, 0.8687, 2.3013])\n",
      "cosh tensor([0.0000, 0.8687, 2.3013])\n"
     ]
    }
   ],
   "source": [
    "angles = torch.tensor([0, torch.pi/4, torch.pi/2])\n",
    "\n",
    "# Basic trig functions\n",
    "sin_val = torch.sin(angles)       # [0., 0.7071, 1.]\n",
    "cos_val = torch.cos(angles)       # [1., 0.7071, 0.]\n",
    "tan_val = torch.tensor([0, 1, 2])\n",
    "atan_val = torch.atan(tan_val)    # Inverse tangent\n",
    "\n",
    "# Hyperbolic functions\n",
    "sinh_val = torch.sinh(angles)\n",
    "cosh_val = torch.cosh(angles)\n",
    "\n",
    "print(\"sin\", sin_val)\n",
    "print(\"cos\", cos_val)\n",
    "print(\"tan\", tan_val)\n",
    "print(\"atan\", atan_val)\n",
    "print(\"sinh\", sinh_val)\n",
    "print(\"cosh\", sinh_val)"
   ]
  },
  {
   "cell_type": "code",
   "execution_count": 42,
   "id": "9bb03750-66ea-4615-85a2-02d1871129fc",
   "metadata": {},
   "outputs": [
    {
     "name": "stdout",
     "output_type": "stream",
     "text": [
      "e^x: tensor([ 2.7183,  7.3891, 20.0855])\n",
      "2^x: tensor([2., 4., 8.])\n",
      "x²: tensor([1., 4., 9.])\n",
      "Natural log: tensor([0.0000, 0.6931, 1.0986])\n",
      "Base-10 log: tensor([0.0000, 0.3010, 0.4771])\n",
      "Base-2 log: tensor([0.0000, 1.0000, 1.5850])\n",
      "Square root: tensor([1.0000, 1.4142, 1.7321])\n",
      "Reciprocal square root: tensor([1.0000, 0.7071, 0.5774])\n"
     ]
    }
   ],
   "source": [
    "x = torch.tensor([1.0, 2.0, 3.0])\n",
    "\n",
    "# Exponential functions\n",
    "exp = torch.exp(x)                # e^x: [2.718, 7.389, 20.085]\n",
    "exp2 = torch.exp2(x)              # 2^x: [2., 4., 8.]\n",
    "pow = torch.pow(x, 2)             # x²: [1., 4., 9.]\n",
    "\n",
    "# Logarithmic functions\n",
    "log = torch.log(x)                # Natural log: [0., 0.693, 1.099]\n",
    "log10 = torch.log10(x)            # Base-10 log: [0., 0.301, 0.477]\n",
    "log2 = torch.log2(x)              # Base-2 log: [0., 1., 1.585]\n",
    "\n",
    "# Special functions\n",
    "sqrt = torch.sqrt(x)              # Square root: [1., 1.414, 1.732]\n",
    "rsqrt = torch.rsqrt(x)            # Reciprocal square root\n",
    "\n",
    "print(\"e^x:\", exp)\n",
    "print(\"2^x:\", exp2)\n",
    "print(\"x²:\", pow)\n",
    "print(\"Natural log:\", log)\n",
    "print(\"Base-10 log:\", log10)\n",
    "print(\"Base-2 log:\", log2)\n",
    "print(\"Square root:\", sqrt)\n",
    "print(\"Reciprocal square root:\", rsqrt)"
   ]
  },
  {
   "cell_type": "code",
   "execution_count": 43,
   "id": "07658e0e-99d9-404d-b283-7d16ec02b3d3",
   "metadata": {},
   "outputs": [
    {
     "name": "stdout",
     "output_type": "stream",
     "text": [
      "floor:  tensor([ 1.,  2., -2.,  3.])\n",
      "ceil:  tensor([ 2.,  3., -1.,  3.])\n",
      "round_val:  tensor([ 1.,  3., -2.,  3.])\n",
      "trunc:  tensor([ 1.,  2., -1.,  3.])\n"
     ]
    }
   ],
   "source": [
    "x = torch.tensor([1.4, 2.6, -1.7, 3.0])\n",
    "\n",
    "# Rounding operations\n",
    "floor = torch.floor(x)            # [1., 2., -2., 3.]\n",
    "ceil = torch.ceil(x)              # [2., 3., -1., 3.]\n",
    "round_val = torch.round(x)        # [1., 3., -2., 3.]\n",
    "trunc = torch.trunc(x)            # [1., 2., -1., 3.]\n",
    "\n",
    "print(\"floor: \", floor)\n",
    "print(\"ceil: \", ceil)\n",
    "print(\"round_val: \", round_val)\n",
    "print(\"trunc: \", trunc)"
   ]
  },
  {
   "cell_type": "code",
   "execution_count": 44,
   "id": "bd2c733b-2e77-498c-b4b5-0948a1711d84",
   "metadata": {},
   "outputs": [
    {
     "name": "stdout",
     "output_type": "stream",
     "text": [
      "equal:  tensor([False,  True, False])\n",
      "not_equal:  tensor([ True, False,  True])\n",
      "greater:  tensor([False, False,  True])\n",
      "less:  tensor([ True, False, False])\n",
      "True (all elements > 0):  tensor(True)\n",
      "True (at least one element > 2):  tensor(True)\n"
     ]
    }
   ],
   "source": [
    "# Comparison operations\n",
    "a = torch.tensor([1, 2, 3])\n",
    "b = torch.tensor([2, 2, 2])\n",
    "\n",
    "equal = a == b                    # [False, True, False]\n",
    "not_equal = a != b                # [True, False, True]\n",
    "greater = a > b                   # [False, False, True]\n",
    "less = a < b                      # [True, False, False]\n",
    "\n",
    "# All/any operations\n",
    "all_true = torch.all(a > 0)       # True (all elements > 0)\n",
    "any_true = torch.any(a > 2)       # True (at least one element > 2)\n",
    "\n",
    "print(\"equal: \", equal)\n",
    "print(\"not_equal: \", not_equal)\n",
    "print(\"greater: \", greater)\n",
    "print(\"less: \", less)\n",
    "print(\"True (all elements > 0): \", all_true)\n",
    "print(\"True (at least one element > 2): \", any_true)"
   ]
  },
  {
   "cell_type": "code",
   "execution_count": 45,
   "id": "8b602f9e-17c2-421e-9790-89d03fcce097",
   "metadata": {},
   "outputs": [
    {
     "name": "stdout",
     "output_type": "stream",
     "text": [
      "Original tensor: \n",
      " tensor([[ 1,  0, 12],\n",
      "        [ 4,  3,  9],\n",
      "        [ 2,  7,  6]])\n",
      "mean:  tensor([4.3333, 5.3333, 5.0000])\n",
      "median:  tensor(4)\n",
      "Standard deviation:  tensor(3.9511)\n",
      "Variance:  tensor(15.6111)\n",
      "sorted_vals: \n",
      " tensor([[ 0,  1, 12],\n",
      "        [ 3,  4,  9],\n",
      "        [ 2,  6,  7]]) \n",
      "sorted_indices: \n",
      " tensor([[1, 0, 2],\n",
      "        [1, 0, 2],\n",
      "        [0, 2, 1]])\n",
      "topk_vals: \n",
      " tensor([[12,  1],\n",
      "        [ 9,  4],\n",
      "        [ 7,  6]]) \n",
      "topk_indices\n",
      " tensor([[2, 0],\n",
      "        [2, 0],\n",
      "        [1, 2]])\n"
     ]
    }
   ],
   "source": [
    "tensor = torch.tensor([[1, 0, 12], \n",
    "                       [4, 3, 9], \n",
    "                       [2, 7, 6]])\n",
    "\n",
    "# Statistical functions\n",
    "mean = torch.mean(tensor.float(), dim=1) # 5.0\n",
    "median = torch.median(tensor)     # 5\n",
    "std = torch.std(tensor.float())   # Standard deviation\n",
    "var = torch.var(tensor.float())   # Variance\n",
    "\n",
    "# Sorting\n",
    "sorted_vals, sorted_indices = torch.sort(tensor, dim=1)\n",
    "\n",
    "# Top-k elements\n",
    "topk_vals, topk_indices = torch.topk(tensor, k=2, dim=1)\n",
    "\n",
    "print(\"Original tensor: \\n\", tensor)\n",
    "print(\"mean: \", mean)\n",
    "print(\"median: \", median)\n",
    "print(\"Standard deviation: \", std)\n",
    "print(\"Variance: \", var)\n",
    "print(\"sorted_vals: \\n\", sorted_vals, \"\\nsorted_indices: \\n\", sorted_indices)\n",
    "print(\"topk_vals: \\n\", topk_vals, \"\\ntopk_indices\\n\", topk_indices)\n"
   ]
  },
  {
   "cell_type": "code",
   "execution_count": 46,
   "id": "b4a46484-b29d-4585-9784-51ded366adde",
   "metadata": {},
   "outputs": [
    {
     "name": "stdout",
     "output_type": "stream",
     "text": [
      "Original vector:  tensor([-2, -1,  0,  1,  2,  3,  4])\n",
      "clamped_min:  tensor([0, 0, 0, 1, 2, 3, 4])\n",
      "clamped_max:  tensor([-2, -1,  0,  1,  2,  2,  2])\n",
      "clamped_range:  tensor([0, 0, 0, 1, 2, 3, 3])\n",
      "abs_val:  tensor([2, 1, 0, 1, 2, 3, 4])\n",
      "sign:  tensor([-1, -1,  0,  1,  1,  1,  1])\n"
     ]
    }
   ],
   "source": [
    "x = torch.tensor([-2, -1, 0, 1, 2, 3, 4])\n",
    "\n",
    "# Clamping values\n",
    "clamped_min = torch.clamp(x, min=0)    # [0, 0, 0, 1, 2, 3, 4]\n",
    "clamped_max = torch.clamp(x, max=2)    # [-2, -1, 0, 1, 2, 2, 2]\n",
    "clamped_range = torch.clamp(x, min=0, max=3)   # [0, 0, 0, 1, 2, 3, 3]\n",
    "\n",
    "# Absolute value\n",
    "abs_val = torch.abs(x)\n",
    "\n",
    "# Sign function\n",
    "sign = torch.sign(x)   # [-1, 0, 1]\n",
    "\n",
    "print(\"Original vector: \", x)\n",
    "print(\"clamped_min: \", clamped_min)\n",
    "print(\"clamped_max: \", clamped_max)\n",
    "print(\"clamped_range: \", clamped_range)\n",
    "print(\"abs_val: \", abs_val)\n",
    "print(\"sign: \", sign)"
   ]
  },
  {
   "cell_type": "code",
   "execution_count": 47,
   "id": "158f4aee-3b01-426b-a3c8-decdd998c27c",
   "metadata": {},
   "outputs": [
    {
     "name": "stdout",
     "output_type": "stream",
     "text": [
      "Broadcasting allows operations between different shaped tensors\n",
      "Original matrix: \n",
      " tensor([[1, 2, 3],\n",
      "        [4, 5, 6]])\n",
      "Original vector: \n",
      " tensor([10, 20, 30])\n",
      "\n",
      "Broadcasting (matrix + vector): \n",
      " tensor([[11, 22, 33],\n",
      "        [14, 25, 36]])\n",
      "\n",
      "Scalar broadcasting (matrix * 2 ): \n",
      " tensor([[ 2,  4,  6],\n",
      "        [ 8, 10, 12]])\n"
     ]
    }
   ],
   "source": [
    "# Broadcasting allows operations between different shaped tensors\n",
    "matrix = torch.tensor([[1, 2, 3],\n",
    "                       [4, 5, 6]])  # 2x3\n",
    "\n",
    "vector = torch.tensor([10, 20, 30]) # 3\n",
    "\n",
    "# Broadcasting: vector is expanded to match matrix shape\n",
    "result = matrix + vector          # [[11, 22, 33], [14, 25, 36]]\n",
    "\n",
    "# Scalar broadcasting\n",
    "scalar_result = matrix * 2        # [[2, 4, 6], [8, 10, 12]]\n",
    "\n",
    "print(\"Broadcasting allows operations between different shaped tensors\")\n",
    "print(\"Original matrix: \\n\", matrix)\n",
    "print(\"Original vector: \\n\", vector)\n",
    "\n",
    "print(\"\\nBroadcasting (matrix + vector): \\n\", result)\n",
    "print(\"\\nScalar broadcasting (matrix * 2 ): \\n\", scalar_result)\n"
   ]
  },
  {
   "cell_type": "code",
   "execution_count": 48,
   "id": "928749cb-ca9b-49d9-b25c-bda82890e22c",
   "metadata": {},
   "outputs": [
    {
     "name": "stdout",
     "output_type": "stream",
     "text": [
      "Original: tensor([-1,  0,  1,  2,  3,  4]) torch.int64\n",
      "to(float32): torch.float32\n",
      "to(float64): torch.float64\n",
      "to(float16): torch.float16\n",
      ".float(): torch.float32\n",
      ".int(): torch.int32\n",
      ".float_to_bool:  tensor([ True, False,  True,  True,  True,  True])\n"
     ]
    }
   ],
   "source": [
    "import torch\n",
    "\n",
    "# Create a tensor\n",
    "tensor = torch.tensor([-1, 0, 1, 2, 3, 4])\n",
    "print(\"Original:\", tensor, tensor.dtype)  # torch.int64\n",
    "\n",
    "# Method 1: Using .to() method (recommended)\n",
    "float_tensor = tensor.to(torch.float32)\n",
    "double_tensor = tensor.to(torch.float64)\n",
    "half_tensor = tensor.to(torch.float16)\n",
    "\n",
    "print(\"to(float32):\", float_tensor.dtype)    # torch.float32\n",
    "print(\"to(float64):\", double_tensor.dtype)   # torch.float64\n",
    "print(\"to(float16):\", half_tensor.dtype)     # torch.float16\n",
    "\n",
    "# Method 2: Using type-specific methods\n",
    "float_tensor2 = tensor.float()      # Convert to float32\n",
    "double_tensor2 = tensor.double()    # Convert to float64\n",
    "half_tensor2 = tensor.half()        # Convert to float16\n",
    "int_tensor = tensor.int()           # Convert to int32\n",
    "long_tensor = tensor.long()         # Convert to int64\n",
    "float_to_bool = float_tensor.bool()      # non-zero → True)\n",
    "\n",
    "print(\".float():\", float_tensor2.dtype)   # torch.float32\n",
    "print(\".int():\", int_tensor.dtype)        # torch.int32\n",
    "print(\".float_to_bool: \", float_to_bool)"
   ]
  },
  {
   "cell_type": "code",
   "execution_count": 49,
   "id": "2efaea06-3b5a-42a0-85e9-32e373467bd6",
   "metadata": {},
   "outputs": [
    {
     "name": "stdout",
     "output_type": "stream",
     "text": [
      "Original: torch.int64\n",
      "Casted: torch.float32\n",
      "From numpy: torch.float64\n",
      "From list: torch.int32\n"
     ]
    }
   ],
   "source": [
    "import torch\n",
    "import numpy as np\n",
    "\n",
    "# Convert with specific dtype\n",
    "original = torch.tensor([1, 2, 3])\n",
    "casted = torch.as_tensor(original, dtype=torch.float32)\n",
    "\n",
    "print(\"Original:\", original.dtype)  # torch.int64\n",
    "print(\"Casted:\", casted.dtype)      # torch.float32\n",
    "\n",
    "# Works with various data sources\n",
    "from_numpy = torch.as_tensor(np.array([1, 2, 3]), dtype=torch.float64)\n",
    "from_list = torch.as_tensor([1.5, 2.5], dtype=torch.int32)\n",
    "\n",
    "print(\"From numpy:\", from_numpy.dtype)  # torch.float64\n",
    "print(\"From list:\", from_list.dtype)    # torch.int32 (truncates to [1, 2])"
   ]
  },
  {
   "cell_type": "code",
   "execution_count": 50,
   "id": "37e13011-d50b-4f5c-b1d3-67034d0242c5",
   "metadata": {},
   "outputs": [
    {
     "name": "stdout",
     "output_type": "stream",
     "text": [
      "Uniform [0,1):\n",
      "tensor([[0.1763, 0.6581, 0.2397],\n",
      "        [0.1151, 0.1782, 0.9220]])\n",
      "Shape: torch.Size([2, 3])\n"
     ]
    }
   ],
   "source": [
    "import torch\n",
    "\n",
    "# Uniform distribution [0, 1)\n",
    "uniform = torch.rand(2, 3)     # 2x3 tensor with values between 0 and 1\n",
    "print(\"Uniform [0,1):\")\n",
    "print(uniform)\n",
    "print(\"Shape:\", uniform.shape)"
   ]
  },
  {
   "cell_type": "code",
   "execution_count": 51,
   "id": "947bb702-27c9-445f-bcd9-865bc6bfe5da",
   "metadata": {},
   "outputs": [
    {
     "name": "stdout",
     "output_type": "stream",
     "text": [
      "\n",
      "Normal (0,1):\n",
      "tensor([[-0.5371,  0.1921,  0.6908],\n",
      "        [-0.6642,  0.5165,  0.9785]])\n"
     ]
    }
   ],
   "source": [
    "import torch\n",
    "\n",
    "# Normal distribution (mean=0, std=1)\n",
    "normal = torch.randn(2, 3)  # 2x3 tensor from normal distribution\n",
    "print(\"\\nNormal (0,1):\")\n",
    "print(normal)"
   ]
  },
  {
   "cell_type": "code",
   "execution_count": 52,
   "id": "0fd2911d-e73b-4210-91ea-110c8f33a994",
   "metadata": {},
   "outputs": [
    {
     "name": "stdout",
     "output_type": "stream",
     "text": [
      "\n",
      "Integers [0,10):\n",
      "tensor([[2, 7, 7],\n",
      "        [5, 2, 5]])\n"
     ]
    }
   ],
   "source": [
    "import torch\n",
    "\n",
    "# Integer random values\n",
    "integers = torch.randint(0, 10, (2, 3))  # 2x3 tensor, values 0-9\n",
    "print(\"\\nIntegers [0,10):\")\n",
    "print(integers)"
   ]
  },
  {
   "cell_type": "code",
   "execution_count": 53,
   "id": "77218fde-133e-4104-a70f-6198836bd27b",
   "metadata": {},
   "outputs": [
    {
     "name": "stdout",
     "output_type": "stream",
     "text": [
      "\n",
      "Uniform [-5,5]:\n",
      " tensor([[-2.4747,  2.4348, -0.7725],\n",
      "        [-1.5818, -3.6857, -0.9675],\n",
      "        [-1.5719,  1.4331,  1.6299]])\n"
     ]
    }
   ],
   "source": [
    "# Specific range uniform\n",
    "rand_range = torch.FloatTensor(3, 3).uniform_(-5, 5)  # Uniform [-5, 5]\n",
    "print(\"\\nUniform [-5,5]:\\n\", rand_range)"
   ]
  },
  {
   "cell_type": "code",
   "execution_count": 54,
   "id": "794bed00-f567-4506-9286-bd0ab0c89036",
   "metadata": {},
   "outputs": [
    {
     "name": "stdout",
     "output_type": "stream",
     "text": [
      "Gamma samples: tensor([0.7633, 0.8111, 3.3717])\n",
      "Beta samples: tensor([0.1985, 0.7042, 0.3983])\n",
      "Poisson samples: tensor([1., 5., 1.])\n",
      "Exponential samples: tensor([0.4401, 0.0113, 3.2566])\n"
     ]
    }
   ],
   "source": [
    "# Gamma distribution\n",
    "gamma = torch.distributions.Gamma(2.0, 1.0).sample((3,))\n",
    "print(\"Gamma samples:\", gamma)\n",
    "\n",
    "# Beta distribution\n",
    "beta = torch.distributions.Beta(2.0, 5.0).sample((3,))\n",
    "print(\"Beta samples:\", beta)\n",
    "\n",
    "# Poisson distribution\n",
    "poisson = torch.poisson(torch.tensor([1.0, 2.0, 3.0]))\n",
    "print(\"Poisson samples:\", poisson)\n",
    "\n",
    "# Exponential distribution\n",
    "exponential = torch.distributions.Exponential(1.0).sample((3,))\n",
    "print(\"Exponential samples:\", exponential)"
   ]
  },
  {
   "cell_type": "code",
   "execution_count": 55,
   "id": "42ceec1a-0cd7-427a-8694-a3f39fa3b91c",
   "metadata": {},
   "outputs": [
    {
     "name": "stdout",
     "output_type": "stream",
     "text": [
      "With seed 42:\n",
      "Random 1:\n",
      " tensor([[0.8823, 0.9150],\n",
      "        [0.3829, 0.9593]])\n",
      "Random 2:\n",
      " tensor([[ 0.2345,  0.2303],\n",
      "        [-1.1229, -0.1863]])\n",
      "\n",
      "With seed 123:\n",
      " tensor([[0.2961, 0.5166],\n",
      "        [0.2517, 0.6886]])\n"
     ]
    }
   ],
   "source": [
    "# Set seed for reproducible results\n",
    "torch.manual_seed(42)\n",
    "\n",
    "# These will be the same every time\n",
    "random1 = torch.rand(2, 2)\n",
    "random2 = torch.randn(2, 2)\n",
    "\n",
    "print(\"With seed 42:\")\n",
    "print(\"Random 1:\\n\", random1)\n",
    "print(\"Random 2:\\n\", random2)\n",
    "\n",
    "# Reset seed for different results\n",
    "torch.manual_seed(123)\n",
    "different_random = torch.rand(2, 2)\n",
    "print(\"\\nWith seed 123:\\n\", different_random)"
   ]
  },
  {
   "cell_type": "code",
   "execution_count": 56,
   "id": "1171047b-01a7-479e-932b-05402e472d8d",
   "metadata": {},
   "outputs": [
    {
     "name": "stdout",
     "output_type": "stream",
     "text": [
      "After uniform_():\n",
      " tensor([[0.0740, 0.8665, 0.1366],\n",
      "        [0.1025, 0.1841, 0.7264],\n",
      "        [0.3153, 0.6871, 0.0756]])\n",
      "\n",
      "After normal_():\n",
      " tensor([[-0.6219, -0.3076, -0.5987],\n",
      "        [-0.5564, -0.0596, -1.9858],\n",
      "        [-0.2109,  1.9667, -0.8350]])\n",
      "\n",
      "After bernoulli_(0.5):\n",
      " tensor([[0., 0., 1.],\n",
      "        [0., 0., 1.],\n",
      "        [0., 0., 0.]])\n",
      "\n",
      "After uniform_(-1,1):\n",
      " tensor([[ 0.8313, -0.1320, -0.8457],\n",
      "        [-0.2869, -0.7043,  0.0661],\n",
      "        [-0.1867, -0.5364, -0.0909]])\n"
     ]
    }
   ],
   "source": [
    "# Create a tensor\n",
    "tensor = torch.zeros(3, 3)\n",
    "\n",
    "# Fill with random values in-place\n",
    "tensor.uniform_()           # Fill with uniform [0,1)\n",
    "print(\"After uniform_():\\n\", tensor)\n",
    "\n",
    "tensor.normal_()            # Fill with normal (0,1)\n",
    "print(\"\\nAfter normal_():\\n\", tensor)\n",
    "\n",
    "tensor.bernoulli_(0.5)      # Fill with Bernoulli (p=0.5)\n",
    "print(\"\\nAfter bernoulli_(0.5):\\n\", tensor)\n",
    "\n",
    "# Specific range\n",
    "tensor.uniform_(-1, 1)      # Fill with uniform [-1,1)\n",
    "print(\"\\nAfter uniform_(-1,1):\\n\", tensor)"
   ]
  },
  {
   "cell_type": "code",
   "execution_count": 57,
   "id": "e3c65219-a909-4861-a2de-c871d21b6e70",
   "metadata": {},
   "outputs": [
    {
     "name": "stdout",
     "output_type": "stream",
     "text": [
      "With seed 42:\n",
      "Random 1:\n",
      " tensor([[0.8823, 0.9150, 0.3829],\n",
      "        [0.9593, 0.3904, 0.6009]])\n",
      "Random 2:\n",
      " tensor([[ 1.1561,  0.3965, -2.4661],\n",
      "        [ 0.3623,  0.3765, -0.1808]])\n",
      "\n",
      "Same seed again:\n",
      "Random 1 again:\n",
      " tensor([[0.8823, 0.9150, 0.3829],\n",
      "        [0.9593, 0.3904, 0.6009]])\n",
      "Random 2 again:\n",
      " tensor([[ 1.1561,  0.3965, -2.4661],\n",
      "        [ 0.3623,  0.3765, -0.1808]])\n",
      "\n",
      "Are they equal?\n",
      "Random1: True\n",
      "Random2: True\n"
     ]
    }
   ],
   "source": [
    "import torch\n",
    "import numpy as np\n",
    "\n",
    "# Set seed for CPU operations\n",
    "torch.manual_seed(42)\n",
    "\n",
    "# Generate random tensors\n",
    "random1 = torch.rand(2, 3)\n",
    "random2 = torch.randn(2, 3)\n",
    "\n",
    "print(\"With seed 42:\")\n",
    "print(\"Random 1:\\n\", random1)\n",
    "print(\"Random 2:\\n\", random2)\n",
    "\n",
    "# Reset seed to get same sequence\n",
    "torch.manual_seed(42)\n",
    "random1_again = torch.rand(2, 3)\n",
    "random2_again = torch.randn(2, 3)\n",
    "\n",
    "print(\"\\nSame seed again:\")\n",
    "print(\"Random 1 again:\\n\", random1_again)\n",
    "print(\"Random 2 again:\\n\", random2_again)\n",
    "\n",
    "print(\"\\nAre they equal?\")\n",
    "print(\"Random1:\", torch.equal(random1, random1_again))\n",
    "print(\"Random2:\", torch.equal(random2, random2_again))"
   ]
  },
  {
   "cell_type": "code",
   "execution_count": 58,
   "id": "a3d10a9c-8e45-4c17-816b-c6c28615e254",
   "metadata": {},
   "outputs": [],
   "source": [
    "# Set seed for GPU operations\n",
    "if torch.cuda.is_available():\n",
    "    torch.cuda.manual_seed(42)\n",
    "    torch.cuda.manual_seed_all(42)  # For multi-GPU\n",
    "    \n",
    "    # Generate random tensors on GPU\n",
    "    gpu_random = torch.rand(2, 3, device='cuda')\n",
    "    print(\"GPU random tensor:\\n\", gpu_random.cpu())  # Move to CPU for printing"
   ]
  },
  {
   "cell_type": "code",
   "execution_count": 59,
   "id": "95310038-c1fb-41a5-80f3-a2a8d015c031",
   "metadata": {},
   "outputs": [
    {
     "name": "stdout",
     "output_type": "stream",
     "text": [
      "PyTorch with seed 123:\n",
      "Random tensor:\n",
      " tensor([[0.2961, 0.5166, 0.2517],\n",
      "        [0.6886, 0.0740, 0.8665],\n",
      "        [0.1366, 0.1025, 0.1841]])\n",
      "Random normal: tensor([ 0.4422, -1.0854, -0.6219, -0.3076, -0.5987])\n",
      "Random integers: tensor([6, 5, 7, 9, 2])\n"
     ]
    }
   ],
   "source": [
    "import torch\n",
    "\n",
    "# Set PyTorch seed to 123\n",
    "torch.manual_seed(123)\n",
    "\n",
    "# Generate reproducible random tensors\n",
    "random_tensor = torch.rand(3, 3)\n",
    "random_normal = torch.randn(5)\n",
    "random_ints = torch.randint(0, 10, (5,))\n",
    "\n",
    "print(\"PyTorch with seed 123:\")\n",
    "print(\"Random tensor:\\n\", random_tensor)\n",
    "print(\"Random normal:\", random_normal)\n",
    "print(\"Random integers:\", random_ints)"
   ]
  },
  {
   "cell_type": "code",
   "execution_count": 60,
   "id": "4144849a-fdd0-4560-8b0b-1b0efc3fba78",
   "metadata": {},
   "outputs": [
    {
     "name": "stdout",
     "output_type": "stream",
     "text": [
      "1D tensor: tensor([3, 1, 4, 1, 5, 9, 2])\n",
      "argmax: 5\n",
      "Max value: 9\n"
     ]
    }
   ],
   "source": [
    "import torch\n",
    "\n",
    "# 1D tensor\n",
    "tensor_1d = torch.tensor([3, 1, 4, 1, 5, 9, 2])\n",
    "max_index = torch.argmax(tensor_1d)\n",
    "print(\"1D tensor:\", tensor_1d)\n",
    "print(\"argmax:\", max_index.item())  \n",
    "print(\"Max value:\", tensor_1d[max_index].item())"
   ]
  },
  {
   "cell_type": "code",
   "execution_count": 61,
   "id": "0f2ad5c3-a376-48f3-a2d2-cebf606eaa18",
   "metadata": {},
   "outputs": [
    {
     "name": "stdout",
     "output_type": "stream",
     "text": [
      "2D tensor:\n",
      " tensor([[1, 5, 3],\n",
      "        [4, 2, 6],\n",
      "        [7, 8, 0]])\n",
      "Global argmax (flattened): 7\n",
      "argmax along dim=0 (columns): tensor([2, 2, 1])\n",
      "argmax along dim=1 (rows): tensor([1, 2, 1])\n"
     ]
    }
   ],
   "source": [
    "# 2D tensor\n",
    "tensor_2d = torch.tensor([\n",
    "    [1, 5, 3],\n",
    "    [4, 2, 6], \n",
    "    [7, 8, 0]\n",
    "])\n",
    "print(\"2D tensor:\\n\", tensor_2d)\n",
    "\n",
    "# Default: flatten and find global maximum\n",
    "global_max = torch.argmax(tensor_2d)\n",
    "print(\"Global argmax (flattened):\", global_max.item())  \n",
    "\n",
    "# Along rows (dim=0) - find max in each column\n",
    "max_per_column = torch.argmax(tensor_2d, dim=0)\n",
    "print(\"argmax along dim=0 (columns):\", max_per_column)  \n",
    "\n",
    "# Along columns (dim=1) - find max in each row  \n",
    "max_per_row = torch.argmax(tensor_2d, dim=1)\n",
    "print(\"argmax along dim=1 (rows):\", max_per_row) "
   ]
  },
  {
   "cell_type": "code",
   "execution_count": 62,
   "id": "abb846aa-5aa0-48de-b136-d933e33e18a8",
   "metadata": {},
   "outputs": [
    {
     "name": "stdout",
     "output_type": "stream",
     "text": [
      "1D tensor: tensor([3, 1, 4, 1, 5, 9, 2])\n",
      "argmin: 1\n",
      "Min value: 1\n"
     ]
    }
   ],
   "source": [
    "import torch\n",
    "\n",
    "# 1D tensor\n",
    "tensor_1d = torch.tensor([3, 1, 4, 1, 5, 9, 2])\n",
    "min_index = torch.argmin(tensor_1d)\n",
    "print(\"1D tensor:\", tensor_1d)\n",
    "print(\"argmin:\", min_index.item())  \n",
    "print(\"Min value:\", tensor_1d[min_index].item())"
   ]
  },
  {
   "cell_type": "code",
   "execution_count": 63,
   "id": "2a96767a-e7e1-4eec-9b4d-caf04e10b8e9",
   "metadata": {},
   "outputs": [
    {
     "name": "stdout",
     "output_type": "stream",
     "text": [
      "2D tensor:\n",
      " tensor([[5, 1, 3],\n",
      "        [4, 2, 6],\n",
      "        [7, 8, 0]])\n",
      "Global argmin (flattened): 8\n",
      "argmin along dim=0 (columns): tensor([1, 0, 2])\n",
      "argmin along dim=1 (rows): tensor([1, 1, 2])\n"
     ]
    }
   ],
   "source": [
    "# 2D tensor\n",
    "tensor_2d = torch.tensor([\n",
    "    [5, 1, 3],\n",
    "    [4, 2, 6], \n",
    "    [7, 8, 0]\n",
    "])\n",
    "print(\"2D tensor:\\n\", tensor_2d)\n",
    "\n",
    "# Default: flatten and find global maximum\n",
    "global_min = torch.argmin(tensor_2d)\n",
    "print(\"Global argmin (flattened):\", global_min.item())  \n",
    "\n",
    "# Along rows (dim=0) - find max in each column\n",
    "min_per_column = torch.argmin(tensor_2d, dim=0)\n",
    "print(\"argmin along dim=0 (columns):\", min_per_column)  \n",
    "\n",
    "# Along columns (dim=1) - find max in each row  \n",
    "min_per_row = torch.argmin(tensor_2d, dim=1)\n",
    "print(\"argmin along dim=1 (rows):\", min_per_row) "
   ]
  },
  {
   "cell_type": "code",
   "execution_count": 64,
   "id": "5f2b682d-2ba8-4213-8a0d-fa97845b5392",
   "metadata": {},
   "outputs": [
    {
     "name": "stdout",
     "output_type": "stream",
     "text": [
      "\n",
      "Labels: tensor([0, 2, 1, 3])\n",
      "One-hot batch:\n",
      " tensor([[1, 0, 0, 0],\n",
      "        [0, 0, 1, 0],\n",
      "        [0, 1, 0, 0],\n",
      "        [0, 0, 0, 1]])\n"
     ]
    }
   ],
   "source": [
    "import torch\n",
    "import torch.nn.functional as F\n",
    "\n",
    "# Multiple labels\n",
    "labels = torch.tensor([0, 2, 1, 3])\n",
    "one_hot_batch = F.one_hot(labels, num_classes=4)\n",
    "print(\"\\nLabels:\", labels)\n",
    "print(\"One-hot batch:\\n\", one_hot_batch)"
   ]
  },
  {
   "cell_type": "code",
   "execution_count": 65,
   "id": "73d1aa50-0d21-4f57-83a5-5f7223017bbf",
   "metadata": {},
   "outputs": [
    {
     "name": "stdout",
     "output_type": "stream",
     "text": [
      "2D labels:\n",
      " tensor([[0, 1],\n",
      "        [2, 0],\n",
      "        [1, 2]])\n",
      "\n",
      "2D one-hot shape: torch.Size([3, 2, 3])\n",
      "2D one-hot:\n",
      " tensor([[[1, 0, 0],\n",
      "         [0, 1, 0]],\n",
      "\n",
      "        [[0, 0, 1],\n",
      "         [1, 0, 0]],\n",
      "\n",
      "        [[0, 1, 0],\n",
      "         [0, 0, 1]]])\n"
     ]
    }
   ],
   "source": [
    "# 2D tensor of labels\n",
    "labels_2d = torch.tensor([[0, 1], \n",
    "                          [2, 0],\n",
    "                          [1, 2]])\n",
    "print(\"2D labels:\\n\", labels_2d)\n",
    "\n",
    "# One-hot encoding adds a new dimension\n",
    "one_hot_2d = F.one_hot(labels_2d, num_classes=3)\n",
    "print(\"\\n2D one-hot shape:\", one_hot_2d.shape)  # torch.Size([3, 2, 3])\n",
    "print(\"2D one-hot:\\n\", one_hot_2d)"
   ]
  }
 ],
 "metadata": {
  "kernelspec": {
   "display_name": "Python 3 (ipykernel)",
   "language": "python",
   "name": "python3"
  },
  "language_info": {
   "codemirror_mode": {
    "name": "ipython",
    "version": 3
   },
   "file_extension": ".py",
   "mimetype": "text/x-python",
   "name": "python",
   "nbconvert_exporter": "python",
   "pygments_lexer": "ipython3",
   "version": "3.13.5"
  }
 },
 "nbformat": 4,
 "nbformat_minor": 5
}
